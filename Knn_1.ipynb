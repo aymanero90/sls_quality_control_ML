{
 "cells": [
  {
   "cell_type": "code",
   "execution_count": 7,
   "id": "c680d99c",
   "metadata": {},
   "outputs": [],
   "source": [
    "import matplotlib.pyplot as plt\n",
    "import cv2\n",
    "import glob\n",
    "import pandas as pd\n",
    "import numpy as np"
   ]
  },
  {
   "cell_type": "code",
   "execution_count": 8,
   "id": "bcdd6ce3",
   "metadata": {},
   "outputs": [],
   "source": [
    "def get_images(images_path, images_count_splitter):\n",
    "    path = glob.glob(images_path)\n",
    "    total_images = []\n",
    "    i = 0\n",
    "    if images_count_splitter <= 0:\n",
    "        images_count_splitter = 1\n",
    "    for file in path:\n",
    "        if i%images_count_splitter == 0:\n",
    "            img = cv2.imread(file)\n",
    "            img = img.reshape(-1,)\n",
    "            total_images.append(img)\n",
    "        i = i+1\n",
    "    return total_images"
   ]
  },
  {
   "cell_type": "code",
   "execution_count": 9,
   "id": "d8bf5c1a",
   "metadata": {},
   "outputs": [
    {
     "data": {
      "text/plain": [
       "3357"
      ]
     },
     "execution_count": 9,
     "metadata": {},
     "output_type": "execute_result"
    }
   ],
   "source": [
    "images = get_images(\"images/sls/train/fail/*.jpg\", 15)\n",
    "len(images)"
   ]
  },
  {
   "cell_type": "code",
   "execution_count": 10,
   "id": "a731df5e",
   "metadata": {},
   "outputs": [],
   "source": [
    "#dd = images[500]\n",
    "#print(np.shape(dd))\n",
    "#kk = dd.reshape(-1)\n",
    "#kk.shape\n",
    "#len(images)\n",
    "#np.shape(images)"
   ]
  },
  {
   "cell_type": "code",
   "execution_count": 11,
   "id": "d612afc1",
   "metadata": {},
   "outputs": [],
   "source": [
    "X = []\n",
    "y = []\n",
    "X = images\n",
    "y = np.ones((len(X)))"
   ]
  },
  {
   "cell_type": "code",
   "execution_count": 12,
   "id": "ce589b83",
   "metadata": {},
   "outputs": [
    {
     "data": {
      "text/plain": [
       "6692"
      ]
     },
     "execution_count": 12,
     "metadata": {},
     "output_type": "execute_result"
    }
   ],
   "source": [
    "images = get_images(\"images/sls/train/norm/*.jpg\", 15)\n",
    "len(images)"
   ]
  },
  {
   "cell_type": "code",
   "execution_count": 13,
   "id": "c1757fb3",
   "metadata": {},
   "outputs": [
    {
     "data": {
      "text/plain": [
       "10049"
      ]
     },
     "execution_count": 13,
     "metadata": {},
     "output_type": "execute_result"
    }
   ],
   "source": [
    "X = np.append(X, images, axis=0)\n",
    "#np.shape(X)\n",
    "len(X)"
   ]
  },
  {
   "cell_type": "code",
   "execution_count": 14,
   "id": "03b8e56a",
   "metadata": {},
   "outputs": [
    {
     "data": {
      "text/plain": [
       "10049"
      ]
     },
     "execution_count": 14,
     "metadata": {},
     "output_type": "execute_result"
    }
   ],
   "source": [
    "y = np.append(y, np.zeros((len(images)))).astype(int)\n",
    "#np.shape(y)\n",
    "len(y)"
   ]
  },
  {
   "cell_type": "code",
   "execution_count": 15,
   "id": "3ba02665",
   "metadata": {},
   "outputs": [
    {
     "data": {
      "text/plain": [
       "(10049, 230400)"
      ]
     },
     "execution_count": 15,
     "metadata": {},
     "output_type": "execute_result"
    }
   ],
   "source": [
    "np.shape(X)"
   ]
  },
  {
   "cell_type": "code",
   "execution_count": 16,
   "id": "c2054995",
   "metadata": {},
   "outputs": [
    {
     "data": {
      "text/plain": [
       "KNeighborsClassifier(n_neighbors=7)"
      ]
     },
     "execution_count": 16,
     "metadata": {},
     "output_type": "execute_result"
    }
   ],
   "source": [
    "from sklearn.neighbors import KNeighborsClassifier\n",
    "neigh = KNeighborsClassifier(n_neighbors=7)\n",
    "neigh.fit(X, y)"
   ]
  },
  {
   "cell_type": "code",
   "execution_count": 18,
   "id": "062c892c",
   "metadata": {},
   "outputs": [
    {
     "name": "stdout",
     "output_type": "stream",
     "text": [
      "238\n",
      "6\n"
     ]
    }
   ],
   "source": [
    "images = get_images(\"images/sls/test/fail/*.jpg\", 2)\n",
    "y_pred = neigh.predict(images)\n",
    "print(len(y_pred))\n",
    "print((y_pred == 0).sum())"
   ]
  },
  {
   "cell_type": "code",
   "execution_count": 19,
   "id": "21e8264d",
   "metadata": {},
   "outputs": [
    {
     "data": {
      "text/plain": [
       "0.9747899159663865"
      ]
     },
     "execution_count": 19,
     "metadata": {},
     "output_type": "execute_result"
    }
   ],
   "source": [
    "from sklearn.metrics import accuracy_score\n",
    "y_test = np.ones((len(y_pred)))\n",
    "accuracy_score(y_test, y_pred)"
   ]
  },
  {
   "cell_type": "code",
   "execution_count": 20,
   "id": "9c457619",
   "metadata": {},
   "outputs": [
    {
     "name": "stdout",
     "output_type": "stream",
     "text": [
      "250\n",
      "0\n"
     ]
    }
   ],
   "source": [
    "images = get_images(\"images/sls/test/norm/*.jpg\", 2)\n",
    "y_pred = neigh.predict(images)\n",
    "print(len(y_pred))\n",
    "print((y_pred == 1).sum())"
   ]
  },
  {
   "cell_type": "code",
   "execution_count": 21,
   "id": "9a81e4e9",
   "metadata": {},
   "outputs": [
    {
     "data": {
      "text/plain": [
       "1.0"
      ]
     },
     "execution_count": 21,
     "metadata": {},
     "output_type": "execute_result"
    }
   ],
   "source": [
    "y_test = np.zeros((len(y_pred)))\n",
    "accuracy_score(y_test, y_pred)"
   ]
  },
  {
   "cell_type": "code",
   "execution_count": null,
   "id": "14935b2d",
   "metadata": {},
   "outputs": [],
   "source": [
    " "
   ]
  }
 ],
 "metadata": {
  "kernelspec": {
   "display_name": "Python 3 (ipykernel)",
   "language": "python",
   "name": "python3"
  },
  "language_info": {
   "codemirror_mode": {
    "name": "ipython",
    "version": 3
   },
   "file_extension": ".py",
   "mimetype": "text/x-python",
   "name": "python",
   "nbconvert_exporter": "python",
   "pygments_lexer": "ipython3",
   "version": "3.8.12"
  }
 },
 "nbformat": 4,
 "nbformat_minor": 5
}
